{
 "cells": [
  {
   "cell_type": "markdown",
   "metadata": {},
   "source": [
    "This dataset is built based on the data provided in grouplens.org."
   ]
  },
  {
   "cell_type": "markdown",
   "metadata": {},
   "source": [
    "movies\n",
    "-------\n",
    "\n",
    "The original movielens data used integer primary keys.  This is fine for non-distributed databases where sequences can be generated cheaply but is not a good solution in a distributed database that would require coordination, locking, and consensus.  Our *partition key* for our `movies` table will be a `UUID`."
   ]
  },
  {
   "cell_type": "markdown",
   "metadata": {},
   "source": [
    "users\n",
    "------\n",
    "The original users data from grouplens.org was anonymized.  This Dataset has added names and addresses.  Also, UUIDs have replaced integer IDs for the same reason as movies."
   ]
  },
  {
   "cell_type": "code",
   "execution_count": null,
   "metadata": {
    "collapsed": true
   },
   "outputs": [],
   "source": []
  }
 ],
 "metadata": {
  "kernelspec": {
   "display_name": "Python 2",
   "language": "python",
   "name": "python2"
  },
  "language_info": {
   "codemirror_mode": {
    "name": "ipython",
    "version": 2
   },
   "file_extension": ".py",
   "mimetype": "text/x-python",
   "name": "python",
   "nbconvert_exporter": "python",
   "pygments_lexer": "ipython2",
   "version": "2.7.8"
  }
 },
 "nbformat": 4,
 "nbformat_minor": 0
}
